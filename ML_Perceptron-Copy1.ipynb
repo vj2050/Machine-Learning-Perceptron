{
 "cells": [
  {
   "cell_type": "markdown",
   "metadata": {},
   "source": [
    "## CMSC 678 HOMEWORK 2 (Q2)\n",
    "### VAISHNAVI JAMDADE(TM39453)"
   ]
  },
  {
   "cell_type": "code",
   "execution_count": null,
   "metadata": {},
   "outputs": [],
   "source": [
    "import numpy as np\n",
    "import pandas as pd\n",
    "from numpy import loadtxt\n",
    "from sklearn.metrics import accuracy_score\n",
    "import matplotlib.pyplot as plt\n",
    "from sklearn.model_selection import train_test_split\n",
    "from urllib.request import urlopen"
   ]
  },
  {
   "cell_type": "markdown",
   "metadata": {},
   "source": [
    "### Reading input data : "
   ]
  },
  {
   "cell_type": "code",
   "execution_count": null,
   "metadata": {},
   "outputs": [],
   "source": [
    "url1=\"https://www.csee.umbc.edu/courses/graduate/678/spring20/mnist_data.txt\"\n",
    "url2=\"https://www.csee.umbc.edu/courses/graduate/678/spring20/mnist_labels.txt\""
   ]
  },
  {
   "cell_type": "code",
   "execution_count": null,
   "metadata": {},
   "outputs": [],
   "source": [
    "raw_data = urlopen(url1)\n",
    "dataset1 = loadtxt(raw_data, delimiter=\" \")\n",
    "print(dataset1.shape)\n",
    "dataset1=dataset1.astype(int)"
   ]
  },
  {
   "cell_type": "code",
   "execution_count": null,
   "metadata": {},
   "outputs": [],
   "source": [
    "raw_data2 = urlopen(url2)\n",
    "dataset2 = loadtxt(raw_data2, delimiter=\" \")\n",
    "dataset2=dataset2.astype(int)\n",
    "dataset2"
   ]
  },
  {
   "cell_type": "markdown",
   "metadata": {},
   "source": [
    "### Function to prepend 1 to input data for bias term :"
   ]
  },
  {
   "cell_type": "code",
   "execution_count": null,
   "metadata": {},
   "outputs": [],
   "source": [
    "def add_ones(X):\n",
    "    \n",
    "    return np.hstack((np.ones((X.shape[0], 1),dtype=int), X)) "
   ]
  },
  {
   "cell_type": "code",
   "execution_count": null,
   "metadata": {},
   "outputs": [],
   "source": [
    "dataset1=add_ones(dataset1)\n",
    "dataset1"
   ]
  },
  {
   "cell_type": "markdown",
   "metadata": {},
   "source": [
    "### Splitting training and testing data : "
   ]
  },
  {
   "cell_type": "code",
   "execution_count": null,
   "metadata": {},
   "outputs": [],
   "source": [
    "X_train, X_test, y_train, y_test = train_test_split(dataset1,dataset2, test_size=0.5, random_state=42)"
   ]
  },
  {
   "cell_type": "code",
   "execution_count": null,
   "metadata": {},
   "outputs": [],
   "source": [
    "X_train.shape,y_train.shape,X_test.shape,y_test.shape"
   ]
  },
  {
   "cell_type": "markdown",
   "metadata": {},
   "source": [
    "## Training Function : "
   ]
  },
  {
   "cell_type": "code",
   "execution_count": null,
   "metadata": {},
   "outputs": [],
   "source": [
    "\n",
    "    def training(X_train, y_train):\n",
    "        \n",
    "        dotprod=np.ndarray(10,dtype=np.float32)\n",
    "        weights=np.zeros((10,X_train.shape[1]), dtype=np.float32)\n",
    "        iterations=47                           # Number of epochs\n",
    "        alpha=0.01                              # Learning Rate\n",
    "        accu=[]\n",
    "        co=[]\n",
    "        for iter in range(iterations) : \n",
    "            count=0\n",
    "            for i in range(X_train.shape[0]): # iterating through each feature vector\n",
    "                for j in range(10):     # weight vectors equivalent to 10 class labels \n",
    "                    dotprod[j] = np.dot(X_train[i],weights[j])\n",
    "        \n",
    "                ind=y_train[i]                 # true class label\n",
    "                maxi=np.argmax(dotprod,axis=None)\n",
    "                y_pred=maxi             # got predicted corresponding class label\n",
    "       \n",
    "                if(y_pred!=y_train[i]):\n",
    "                #subtracting x input from old weight vector coress to predicted label \n",
    "                    weights[maxi] -= alpha*X_train[i]\n",
    "                  \n",
    "                #adding x input to old weight vector coress to true label \n",
    "                    weights[ind] += alpha*X_train[i]\n",
    "                    \n",
    "                elif(y_pred==y_train[i]):\n",
    "                    count=count+1\n",
    "                    \n",
    "            accuracy = round(((count/y_train.shape[0])*100), 2)\n",
    "            #print(\"Accuracy after epoch \"+ str(iter)  + \" is : \",accuracy)\n",
    "            accu.append(accuracy)\n",
    "            #print(\"Count of correctly classified samples is : \" , count)\n",
    "            co.append(count)\n",
    "            \n",
    "        zippedList =  list(zip(accu,co))\n",
    "        df=pd.DataFrame(zippedList, columns = ['Accuracy in %', 'Correctly_classified_samples'],index=None)\n",
    "        print(df)\n",
    " \n",
    "        return weights"
   ]
  },
  {
   "cell_type": "markdown",
   "metadata": {},
   "source": [
    "## Testing Function : "
   ]
  },
  {
   "cell_type": "code",
   "execution_count": null,
   "metadata": {},
   "outputs": [],
   "source": [
    "    def testing(X_test,w):\n",
    "        \n",
    "        ypred=[]\n",
    "        activ=[]\n",
    "        activ=np.dot(X_test,w.T)     #calculating activation\n",
    "        \n",
    "        for i in range(activ.shape[0]):\n",
    "            ypred.append(np.argmax(activ[i]))\n",
    "\n",
    "        return ypred           #predicted class label"
   ]
  },
  {
   "cell_type": "code",
   "execution_count": null,
   "metadata": {},
   "outputs": [],
   "source": [
    " w=training(X_train, y_train)  #got updated weights"
   ]
  },
  {
   "cell_type": "markdown",
   "metadata": {},
   "source": [
    "## Accuracy Calculation for Training DATA"
   ]
  },
  {
   "cell_type": "code",
   "execution_count": null,
   "metadata": {},
   "outputs": [],
   "source": [
    "predictions_for_Training=testing(X_train,w)         "
   ]
  },
  {
   "cell_type": "code",
   "execution_count": null,
   "metadata": {},
   "outputs": [],
   "source": [
    "count=0\n",
    "for i in range(y_train.shape[0]):\n",
    "    if predictions_for_Training[i]==y_train[i]:\n",
    "        count=count+1\n",
    "print(\"Number of samples correctly classified for training data : \", count)\n",
    "print('Accuracy in % :', accuracy_score(y_train,predictions_for_Training)*100)"
   ]
  },
  {
   "cell_type": "markdown",
   "metadata": {},
   "source": [
    "## Accuracy Calculation for Testing DATA"
   ]
  },
  {
   "cell_type": "code",
   "execution_count": null,
   "metadata": {},
   "outputs": [],
   "source": [
    "predictions_for_Testing=testing(X_test,w)"
   ]
  },
  {
   "cell_type": "code",
   "execution_count": null,
   "metadata": {},
   "outputs": [],
   "source": [
    "count=0\n",
    "for i in range(y_test.shape[0]):\n",
    "    if predictions_for_Testing[i]==y_test[i]:\n",
    "        count=count+1\n",
    "\n",
    "print(\"Number of samples correctly classified for testing data : \", count)\n",
    "print('Accuracy in % :', accuracy_score(y_test,predictions_for_Testing)*100)"
   ]
  }
 ],
 "metadata": {
  "kernelspec": {
   "display_name": "Python 3",
   "language": "python",
   "name": "python3"
  },
  "language_info": {
   "codemirror_mode": {
    "name": "ipython",
    "version": 3
   },
   "file_extension": ".py",
   "mimetype": "text/x-python",
   "name": "python",
   "nbconvert_exporter": "python",
   "pygments_lexer": "ipython3",
   "version": "3.7.4"
  }
 },
 "nbformat": 4,
 "nbformat_minor": 2
}
